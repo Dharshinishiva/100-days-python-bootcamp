{
 "cells": [
  {
   "cell_type": "code",
   "execution_count": null,
   "id": "6cb805f9",
   "metadata": {},
   "outputs": [],
   "source": [
    "#this day is all about DEBUGGING \n",
    "\n",
    "#firstly we need to understand the program like whats going on \n",
    "\n",
    "#we must check the syntax\n",
    "\n",
    "#if u can not do anything BETTER ASK CHATGPT "
   ]
  }
 ],
 "metadata": {
  "language_info": {
   "name": "python"
  }
 },
 "nbformat": 4,
 "nbformat_minor": 5
}
