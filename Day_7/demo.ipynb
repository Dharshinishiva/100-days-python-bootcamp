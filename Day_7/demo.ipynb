{
 "cells": [
  {
   "cell_type": "code",
   "execution_count": 1,
   "id": "39beac23",
   "metadata": {},
   "outputs": [
    {
     "ename": "SyntaxError",
     "evalue": "invalid syntax (852323121.py, line 4)",
     "output_type": "error",
     "traceback": [
      "\u001b[1;36m  Cell \u001b[1;32mIn[1], line 4\u001b[1;36m\u001b[0m\n\u001b[1;33m    Document(\"metadata\":[title:cricketbook, type: .pdf, author:\"\", ],pagecontent:\"bdslavj\")\u001b[0m\n\u001b[1;37m                       ^\u001b[0m\n\u001b[1;31mSyntaxError\u001b[0m\u001b[1;31m:\u001b[0m invalid syntax\n"
     ]
    }
   ],
   "source": [
    "document.loader= bdslavjkkkkkkkvbjkal\n",
    "\n",
    "padloader\n",
    "Document(\"metadata\":[title:cricketbook, type: .pdf, author:\"\", ],pagecontent:\"bdslavj\")\n",
    "Document(\"metadata\":[title:cricketbook, type: .pdf, author:\"\", ],pagecontent:\"cscssc\")\n",
    "Document(\"metadata\":[title:cricketbook, type: .pdf, author:\"\", ],pagecontent:\"sccscsc\")\n",
    "\n",
    "len(document)\n",
    "800\n",
    "\n",
    "\n",
    "chunk=recurise(documents, chunksize=2000)\n",
    "\n",
    "\n",
    "chunk(\"metadata\":[title:cricketbook, type: .pdf, author:\"\", ],pagecontent:\"<2000 words content>\")\n",
    "chunk(\"metadata\":[title:cricketbook, type: .pdf, author:\"\", ],pagecontent:\"<2000 words content>\")\n",
    "chunk(\"metadata\":[title:cricketbook, type: .pdf, author:\"\", ],pagecontent:\"<2000 words content>\")\n",
    "chunk(\"metadata\":[title:cricketbook, type: .pdf, author:\"\", ],pagecontent:\"<2000 words content>\")\n",
    "chunk(\"metadata\":[title:cricketbook, type: .pdf, author:\"\", ],pagecontent:\"<2000 words content>\")\n",
    "len(chunk)= 2500\n",
    "\n",
    "embediing=azureopenaiembedding(model=ada, verion, key:, endpoint)\n",
    "vector_store=vector_store(embediing, chunk)\n",
    "\n",
    "vector_store\n",
    "chunk(\"metadata\":[title:cricketbook, type: .pdf, author:\"\", ],pagecontent:\"<2000 words content>\", \n",
    "      vector: [0.7347,0.83274.............])\n",
    "chunk(\"metadata\":[title:cricketbook, type: .pdf, author:\"\", ],pagecontent:\"<2000 words content>\", \n",
    "      vector: [0.7347,0.83274.............])\n",
    "chunk(\"metadata\":[title:cricketbook, type: .pdf, author:\"\", ],pagecontent:\"<2000 words content>\", \n",
    "      vector: [0.7347,0.83274.............])\n",
    "chunk(\"metadata\":[title:cricketbook, type: .pdf, author:\"\", ],pagecontent:\"<2000 words content>\", \n",
    "      vector: [0.7347,0.83274.............])\n",
    "\n"
   ]
  }
 ],
 "metadata": {
  "kernelspec": {
   "display_name": "Python 3",
   "language": "python",
   "name": "python3"
  },
  "language_info": {
   "codemirror_mode": {
    "name": "ipython",
    "version": 3
   },
   "file_extension": ".py",
   "mimetype": "text/x-python",
   "name": "python",
   "nbconvert_exporter": "python",
   "pygments_lexer": "ipython3",
   "version": "3.11.4"
  }
 },
 "nbformat": 4,
 "nbformat_minor": 5
}
