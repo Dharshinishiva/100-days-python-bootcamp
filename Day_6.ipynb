{
 "cells": [
  {
   "cell_type": "code",
   "execution_count": 15,
   "id": "ef85b734",
   "metadata": {},
   "outputs": [
    {
     "name": "stdout",
     "output_type": "stream",
     "text": [
      "Your password is: ['%', '*', '4', ']', '6', '2', 'h', 'j', '?', 's', '2', 'y']\n",
      "%*4]62hj?s2y\n"
     ]
    }
   ],
   "source": [
    "import random\n",
    "letters=['a','b','c','d','e','f','g','h','i','j','k','l','m','n','o','p','q','r','s','t','u','v','w','x','y','z']\n",
    "numbers=['0','1','2','3','4','5','6','7','8','9']\n",
    "symbols=['!','@','#','$','%','^','&','*','(',')','-','=','+','{','}','[',']',':',';','\"',\"'\",'<','>','?','/','.']\n",
    "\n",
    "l=input(\"no of letters:\")\n",
    "l=int(l)\n",
    "n=input(\"no of numbers:\")\n",
    "n=int(n)\n",
    "s=input(\"no of lsymbol:\")\n",
    "\n",
    "password=0\n",
    "password = random.choices(letters, k=int(l)) + random.choices(numbers, k=int(n)) + random.choices(symbols, k=int(s))\n",
    "random.shuffle(password)\n",
    "print(\"Your password is:\", password)\n",
    "\n",
    "print(''. join(password))"
   ]
  },
  {
   "cell_type": "markdown",
   "id": "ebaf14a8",
   "metadata": {},
   "source": [
    "day 6"
   ]
  },
  {
   "cell_type": "code",
   "execution_count": 14,
   "id": "a5165a11",
   "metadata": {},
   "outputs": [
    {
     "name": "stdout",
     "output_type": "stream",
     "text": [
      "ahilhil\n"
     ]
    }
   ],
   "source": [
    "a=\"all\"\n",
    "b=\"hi\".join(a)\n",
    "print(b)"
   ]
  },
  {
   "cell_type": "code",
   "execution_count": 21,
   "id": "5bb88d56",
   "metadata": {},
   "outputs": [
    {
     "name": "stdout",
     "output_type": "stream",
     "text": [
      "Your password is: ['=', 'e', '7']\n",
      "=e7\n"
     ]
    }
   ],
   "source": [
    "import random\n",
    "letters=['a','b','c','d','e','f','g','h','i','j','k','l','m','n','o','p','q','r','s','t','u','v','w','x','y','z']\n",
    "numbers=['0','1','2','3','4','5','6','7','8','9']\n",
    "symbols=['!','@','#','$','%','^','&','*','(',')','-','=','+','{','}','[',']',':',';','\"',\"'\",'<','>','?','/','.']\n",
    "\n",
    "l=input(\"no of letters:\")\n",
    "l=int(l)\n",
    "n=input(\"no of numbers:\")\n",
    "n=int(n)\n",
    "s=input(\"no of lsymbol:\")\n",
    "\n",
    "password=0\n",
    "password = random.choices(letters, k=int(l)) + random.choices(numbers, k=int(n)) + random.choices(symbols, k=int(s))\n",
    "random.shuffle(password)\n",
    "print(\"Your password is:\", password)\n",
    "\n",
    "r=''\n",
    "for i in password:\n",
    "    r+=i\n",
    "    \n",
    "print(r)"
   ]
  }
 ],
 "metadata": {
  "kernelspec": {
   "display_name": "Python 3",
   "language": "python",
   "name": "python3"
  },
  "language_info": {
   "codemirror_mode": {
    "name": "ipython",
    "version": 3
   },
   "file_extension": ".py",
   "mimetype": "text/x-python",
   "name": "python",
   "nbconvert_exporter": "python",
   "pygments_lexer": "ipython3",
   "version": "3.11.4"
  }
 },
 "nbformat": 4,
 "nbformat_minor": 5
}
