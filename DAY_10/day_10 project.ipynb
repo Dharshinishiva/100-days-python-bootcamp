{
 "cells": [
  {
   "cell_type": "code",
   "execution_count": null,
   "id": "33752a6d",
   "metadata": {},
   "outputs": [
    {
     "data": {
      "text/plain": [
       "6"
      ]
     },
     "execution_count": 5,
     "metadata": {},
     "output_type": "execute_result"
    }
   ],
   "source": [
    "#functions with output\n",
    "\n",
    "def calculation():\n",
    "    expression = 2*3\n",
    "    return expression\n",
    "calculation()"
   ]
  },
  {
   "cell_type": "code",
   "execution_count": null,
   "id": "4d7fa423",
   "metadata": {},
   "outputs": [
    {
     "name": "stdout",
     "output_type": "stream",
     "text": [
      "Dharshini Sivakumar\n"
     ]
    }
   ],
   "source": [
    "def name_of_person(first_name, second_name):\n",
    "    name_one = first_name.title()\n",
    "    name_two = second_name.title()\n",
    "    return f\"{name_one} {name_two}\"\n",
    "print(name_of_person(\"dharshini\", \"sivakumar\"))"
   ]
  },
  {
   "cell_type": "code",
   "execution_count": 11,
   "id": "8928547a",
   "metadata": {},
   "outputs": [
    {
     "data": {
      "text/plain": [
       "'first name : Dharsh secondname : Siva'"
      ]
     },
     "execution_count": 11,
     "metadata": {},
     "output_type": "execute_result"
    }
   ],
   "source": [
    "def name_of_person(first_name, second_name):\n",
    "    if first_name == \"\" or second_name == \"\":\n",
    "        return \"invalid inputs\"\n",
    "    name_one = first_name.title()\n",
    "    name_two = second_name.title()\n",
    "    return f\"first name : {name_one} secondname : {name_two}\"\n",
    "(name_of_person(input(\"enter first name:\"), input(\"enter second name:\")))"
   ]
  },
  {
   "cell_type": "code",
   "execution_count": 16,
   "id": "aa9dfeee",
   "metadata": {},
   "outputs": [
    {
     "name": "stdout",
     "output_type": "stream",
     "text": [
      "its not a leap year\n"
     ]
    }
   ],
   "source": [
    "\n",
    "def is_leap_year(year):\n",
    "    \"\"\"finding the given year is leap or not\"\"\"\n",
    "\n",
    "    if year%4 == 0:\n",
    "        print(\"its a leap year\")\n",
    "    elif year%100 == 0:\n",
    "        print(\"its not a leap year\")\n",
    "    elif year%400 == 0:\n",
    "        print(\"its a leap year\")\n",
    "    else:\n",
    "        print(\"its not a leap year\")\n",
    "is_leap_year(int(input(\"enter year:\")))"
   ]
  }
 ],
 "metadata": {
  "kernelspec": {
   "display_name": "Python 3",
   "language": "python",
   "name": "python3"
  },
  "language_info": {
   "codemirror_mode": {
    "name": "ipython",
    "version": 3
   },
   "file_extension": ".py",
   "mimetype": "text/x-python",
   "name": "python",
   "nbconvert_exporter": "python",
   "pygments_lexer": "ipython3",
   "version": "3.11.4"
  }
 },
 "nbformat": 4,
 "nbformat_minor": 5
}
