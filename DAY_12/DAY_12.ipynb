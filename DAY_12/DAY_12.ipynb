{
 "cells": [
  {
   "cell_type": "code",
   "execution_count": null,
   "id": "70f0c359",
   "metadata": {},
   "outputs": [
    {
     "name": "stdout",
     "output_type": "stream",
     "text": [
      "the value inside the function is  5\n",
      "the value outside the function is 18\n"
     ]
    }
   ],
   "source": [
    "# local scope and global scope \n",
    "\n",
    "number = 18  #the variable can be used anywhere in the program (global scope)\n",
    "\n",
    "def guess_number():\n",
    "    number = 5      # the variable can be accessed only within the function (local scope)\n",
    "    print(\"the value inside the function is \", number)\n",
    "guess_number()\n",
    "\n",
    "print(\"the value outside the function is\", number )"
   ]
  },
  {
   "cell_type": "code",
   "execution_count": 2,
   "id": "29753700",
   "metadata": {},
   "outputs": [
    {
     "name": "stdout",
     "output_type": "stream",
     "text": [
      "False\n"
     ]
    }
   ],
   "source": [
    "def is_prime(n):\n",
    "    if n <= 1:\n",
    "        return False  # 0 and 1 are not prime\n",
    "    for i in range(2, int(n**0.5) + 1):  # check till square root of n\n",
    "        if n % i == 0:\n",
    "            return False\n",
    "    return True\n",
    "\n",
    "# Example usage:\n",
    "number = int(input(\"Enter a number: \"))\n",
    "print(is_prime(number))\n"
   ]
  }
 ],
 "metadata": {
  "kernelspec": {
   "display_name": "Python 3",
   "language": "python",
   "name": "python3"
  },
  "language_info": {
   "codemirror_mode": {
    "name": "ipython",
    "version": 3
   },
   "file_extension": ".py",
   "mimetype": "text/x-python",
   "name": "python",
   "nbconvert_exporter": "python",
   "pygments_lexer": "ipython3",
   "version": "3.11.4"
  }
 },
 "nbformat": 4,
 "nbformat_minor": 5
}
