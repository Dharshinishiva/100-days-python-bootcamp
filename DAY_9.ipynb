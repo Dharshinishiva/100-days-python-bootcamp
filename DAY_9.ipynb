{
 "cells": [
  {
   "cell_type": "code",
   "execution_count": null,
   "id": "5b48bd53",
   "metadata": {},
   "outputs": [
    {
     "name": "stdout",
     "output_type": "stream",
     "text": [
      "wicket keeper\n",
      "batsman\n",
      "bolwer\n"
     ]
    }
   ],
   "source": [
    "# PYTHON DICTIONARY \n",
    "\n",
    "cricket = {\"virat\":\"batsman\", \"jasprit\":\"bowler\", \"dhoni\":\"wicket keeper\"}\n",
    "print(cricket[\"dhoni\"])\n",
    "print(cricket[\"virat\"])\n",
    "print(cricket[\"jasprit\"])"
   ]
  },
  {
   "cell_type": "code",
   "execution_count": null,
   "id": "e1fdb3e1",
   "metadata": {},
   "outputs": [
    {
     "name": "stdout",
     "output_type": "stream",
     "text": [
      "{'virat': 'batsman', 'jasprit': 'bowler', 'dhoni': 'wicket keeper', 'jaddu': 'all rounder'}\n"
     ]
    }
   ],
   "source": [
    "#adding extra data\n",
    "\n",
    "cricket = {\"virat\":\"batsman\", \"jasprit\":\"bowler\", \"dhoni\":\"wicket keeper\"}\n",
    "cricket[\"jaddu\"] = \"all rounder\"\n",
    "print(cricket)"
   ]
  },
  {
   "cell_type": "code",
   "execution_count": 5,
   "id": "c0881eaf",
   "metadata": {},
   "outputs": [
    {
     "name": "stdout",
     "output_type": "stream",
     "text": [
      "{}\n"
     ]
    }
   ],
   "source": [
    "#empty dictionary\n",
    "\n",
    "cricket = {\"virat\":\"batsman\", \"jasprit\":\"bowler\", \"dhoni\":\"wicket keeper\"}\n",
    "cricket = {} # this line empty the dictionary\n",
    "print(cricket)"
   ]
  },
  {
   "cell_type": "code",
   "execution_count": 6,
   "id": "b10d8d9d",
   "metadata": {},
   "outputs": [
    {
     "name": "stdout",
     "output_type": "stream",
     "text": [
      "{'virat': 'batsman', 'jasprit': 'bowler', 'dhoni': 'best finisher'}\n"
     ]
    }
   ],
   "source": [
    "#editing the dictionary\n",
    "\n",
    "cricket = {\"virat\":\"batsman\", \"jasprit\":\"bowler\", \"dhoni\":\"wicket keeper\"}\n",
    "cricket[\"dhoni\"] = \"best finisher\"\n",
    "print(cricket)"
   ]
  },
  {
   "cell_type": "code",
   "execution_count": null,
   "id": "1d5c51e6",
   "metadata": {},
   "outputs": [],
   "source": [
    "student_scores = {\n",
    "    'Harry': 88,\n",
    "    'Ron': 78,\n",
    "    'Hermione': 95,\n",
    "    'Draco': 75,\n",
    "    'Neville': 60\n",
    "}\n",
    "\n",
    "student_grades = {}\n",
    "\n",
    "#for student in student_scores:\n",
    " \n",
    "# score = student_scores[student]\n",
    " \n",
    "\n",
    "for student, score in student_scores.items():\n",
    "    if 91 <= score <= 100:\n",
    "        grade = \"Outstanding\"\n",
    "    elif 81 <= score <= 90:\n",
    "        grade = \"Exceeds Expectations\"\n",
    "    elif 71 <= score <= 80:\n",
    "        grade = \"Acceptable\"\n",
    "    else:\n",
    "        grade = \"Fail\"\n",
    "    student_grades[student] = grade\n",
    "\n",
    "print(student_grades) \n"
   ]
  },
  {
   "cell_type": "code",
   "execution_count": 3,
   "id": "3027a897",
   "metadata": {},
   "outputs": [
    {
     "name": "stdout",
     "output_type": "stream",
     "text": [
      "london\n"
     ]
    }
   ],
   "source": [
    "my_travels = {\"europe\":[\"france\",\"london\", \"whales\"], \"america\": [\"las vegas\", \"folridra\", \"new york\"] }\n",
    "\n",
    "print(my_travels[\"europe\"][1])\n",
    "  "
   ]
  },
  {
   "cell_type": "code",
   "execution_count": null,
   "id": "3e9318d3",
   "metadata": {},
   "outputs": [
    {
     "name": "stdout",
     "output_type": "stream",
     "text": [
      "whales\n"
     ]
    }
   ],
   "source": [
    "my_travels = {\"europe\": \n",
    "              {\"cities_visited\":[\"france\",\"london\", \"whales\"], \n",
    "               \"no_of_times\":7\n",
    "               }, \n",
    "            \"america\": \n",
    "            {\n",
    "                \"cities_visited\":[\"las vegas\", \"folridra\", \"new york\"], \n",
    "                \"times\":5}\n",
    "                }\n",
    "print(my_travels[\"europe\"][\"cities_visited\"][2])"
   ]
  },
  {
   "cell_type": "markdown",
   "id": "4e29e8e6",
   "metadata": {},
   "source": [
    "day 9 branch created"
   ]
  },
  {
   "cell_type": "code",
   "execution_count": null,
   "id": "e95f49c5",
   "metadata": {},
   "outputs": [],
   "source": [
    "print(\"hi\""
   ]
  }
 ],
 "metadata": {
  "kernelspec": {
   "display_name": "Python 3",
   "language": "python",
   "name": "python3"
  },
  "language_info": {
   "codemirror_mode": {
    "name": "ipython",
    "version": 3
   },
   "file_extension": ".py",
   "mimetype": "text/x-python",
   "name": "python",
   "nbconvert_exporter": "python",
   "pygments_lexer": "ipython3",
   "version": "3.11.4"
  }
 },
 "nbformat": 4,
 "nbformat_minor": 5
}
