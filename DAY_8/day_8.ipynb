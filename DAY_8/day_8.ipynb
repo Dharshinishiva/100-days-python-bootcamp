{
 "cells": [
  {
   "cell_type": "code",
   "execution_count": null,
   "id": "2494216b",
   "metadata": {},
   "outputs": [],
   "source": [
    "def greet():\n",
    "    print(\"hello\")\n",
    "    print(\"i am dharshini\")\n",
    "greet()"
   ]
  },
  {
   "cell_type": "code",
   "execution_count": null,
   "id": "e1ec1033",
   "metadata": {},
   "outputs": [],
   "source": [
    " # PASSING PARAMETERS IN THE FUNCTION \n",
    "\n",
    "def greet(name):\n",
    "    print(f\"hello {name}\")\n",
    "    print(f\"how are you {name}\")\n",
    "\n",
    "greet(\"dharshini\")"
   ]
  },
  {
   "cell_type": "code",
   "execution_count": null,
   "id": "5dc6d419",
   "metadata": {},
   "outputs": [],
   "source": [
    "#Create a function called life_in_weeks() using maths and f-Strings that tells us how many weeks we have left, if we live until 90 years old.\n",
    "\n",
    "def life_in_week(age):\n",
    "    if age<= 90:\n",
    "        age_remaining = 90-age \n",
    "        weeks_left = 52*age_remaining \n",
    "        print (\"you have\",weeks_left,\"weeks left\")\n",
    "    else:\n",
    "        print(\"sorry !! You are expired\")\n",
    "life_in_week(17) "
   ]
  },
  {
   "cell_type": "code",
   "execution_count": null,
   "id": "731bb117",
   "metadata": {},
   "outputs": [],
   "source": [
    "#passing two parameters\n",
    "\n",
    "def greet(name, location):\n",
    "    print(\"hello\", name)\n",
    "    print(\"coming from\", location)\n",
    "greet(\"dharshini\", \"chennai\")"
   ]
  },
  {
   "cell_type": "code",
   "execution_count": null,
   "id": "eefe1969",
   "metadata": {},
   "outputs": [],
   "source": [
    "def calculate_love_score():\n",
    "    first_name = input(\"enter first name\")\n",
    "    second_name = input (\"enter second name\")\n",
    "    comb_name = first_name + second_name \n",
    "    \n",
    "    \n",
    "    T = comb_name.count(\"t\")\n",
    "    R = comb_name.count(\"r\")\n",
    "    U = comb_name.count(\"u\")\n",
    "    E_true = comb_name.count(\"e\") \n",
    "     \n",
    "    score_1 = T + R + U + E_true\n",
    "     \n",
    "    L = comb_name.count(\"l\")\n",
    "    O = comb_name.count(\"o\")\n",
    "    V = comb_name.count(\"v\")\n",
    "    E = comb_name.count(\"e\") \n",
    "     \n",
    "    score_2 = L + O + V + E \n",
    "     \n",
    "    total_score = int(str(score_1)) + int(str(score_2))\n",
    "     \n",
    "    print(\"love score\", total_score)\n",
    "\n",
    "calculate_love_score()"
   ]
  }
 ],
 "metadata": {
  "language_info": {
   "name": "python"
  }
 },
 "nbformat": 4,
 "nbformat_minor": 5
}
