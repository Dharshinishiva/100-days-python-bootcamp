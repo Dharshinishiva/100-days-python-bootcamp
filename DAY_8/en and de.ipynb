{
 "cells": [
  {
   "cell_type": "code",
   "execution_count": null,
   "id": "0354a4c7",
   "metadata": {},
   "outputs": [
    {
     "name": "stdout",
     "output_type": "stream",
     "text": [
      "the encrpyted word is fjctuj\n"
     ]
    }
   ],
   "source": [
    "# ENCRYPTION \n",
    "alphabet = ['a','b','c','d','e','f','g','h','i','j','k','l','m','n','o','p','q','r','s','t','u','v','w','x','y','z']\n",
    "\n",
    "directon = input(\"encode or decode:\")\n",
    "text = input(\"enter test:\")\n",
    "shift = int(input(\"enter number of shift:\"))\n",
    "\n",
    "\n",
    "def encrypt(original_text, shift_amount):\n",
    "    cyper = \"\"\n",
    "    for letter in original_text:\n",
    "        shifted_position = alphabet.index(letter) + shift_amount\n",
    "        shifted_position = shifted_position % len(alphabet) \n",
    "        cyper += alphabet[shifted_position]\n",
    "    print(\"the encrpyted word is\", cyper)\n",
    "\n",
    "encrypt(text, shift)\n",
    "\n"
   ]
  },
  {
   "cell_type": "code",
   "execution_count": 3,
   "id": "d9c198e3",
   "metadata": {},
   "outputs": [
    {
     "name": "stdout",
     "output_type": "stream",
     "text": [
      "the encrpyted word is dharsh\n"
     ]
    }
   ],
   "source": [
    "#  DECRYPTION \n",
    " \n",
    "alphabet = ['a','b','c','d','e','f','g','h','i','j','k','l','m','n','o','p','q','r','s','t','u','v','w','x','y','z']\n",
    "\n",
    "directon = input(\"encode or decode:\")\n",
    "text = input(\"enter test:\")\n",
    "shift = int(input(\"enter number of shift:\"))\n",
    "\n",
    "def decrypt(original_text, shift_amount):\n",
    "    output = \"\"\n",
    "    for letter in original_text:\n",
    "        shifted_position = alphabet.index(letter) - shift_amount\n",
    "        shifted_position = shifted_position % len(alphabet) \n",
    "        output += alphabet[shifted_position]\n",
    "    print(\"the encrpyted word is\", output)\n",
    "\n",
    "decrypt (text, shift)\n"
   ]
  }
 ],
 "metadata": {
  "kernelspec": {
   "display_name": "Python 3",
   "language": "python",
   "name": "python3"
  },
  "language_info": {
   "codemirror_mode": {
    "name": "ipython",
    "version": 3
   },
   "file_extension": ".py",
   "mimetype": "text/x-python",
   "name": "python",
   "nbconvert_exporter": "python",
   "pygments_lexer": "ipython3",
   "version": "3.11.4"
  }
 },
 "nbformat": 4,
 "nbformat_minor": 5
}
